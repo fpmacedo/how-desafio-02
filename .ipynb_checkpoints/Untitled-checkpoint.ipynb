{
 "cells": [
  {
   "cell_type": "code",
   "execution_count": 3,
   "id": "ef62c91e",
   "metadata": {},
   "outputs": [],
   "source": [
    "import pyspark\n",
    "from pyspark.sql.functions import date_format, col\n",
    "from pyspark.sql import SparkSession\n",
    "import logging\n",
    "import great_expectations as gx\n",
    "logger = logging.getLogger(__name__)\n",
    "logging.basicConfig(level=logging.INFO)"
   ]
  },
  {
   "cell_type": "code",
   "execution_count": 2,
   "id": "cb1aa55c",
   "metadata": {},
   "outputs": [
    {
     "name": "stdout",
     "output_type": "stream",
     "text": [
      "Defaulting to user installation because normal site-packages is not writeable\n",
      "Collecting great_expectations==0.16.13\n",
      "  Obtaining dependency information for great_expectations==0.16.13 from https://files.pythonhosted.org/packages/62/92/ffd54e99c84cccbf1cd3562726e6c2330e0c1fbf593678719ac3ea212c11/great_expectations-0.16.13-py3-none-any.whl.metadata\n",
      "  Downloading great_expectations-0.16.13-py3-none-any.whl.metadata (11 kB)\n",
      "Requirement already satisfied: altair<5.0.0,>=4.2.1 in /home/fcmacedo/.local/lib/python3.10/site-packages (from great_expectations==0.16.13) (4.2.2)\n",
      "Requirement already satisfied: Click>=7.1.2 in /home/fcmacedo/.local/lib/python3.10/site-packages (from great_expectations==0.16.13) (8.1.3)\n",
      "Requirement already satisfied: colorama>=0.4.3 in /home/fcmacedo/.local/lib/python3.10/site-packages (from great_expectations==0.16.13) (0.4.6)\n",
      "Requirement already satisfied: cryptography>=3.2 in /home/fcmacedo/.local/lib/python3.10/site-packages (from great_expectations==0.16.13) (38.0.0)\n",
      "Requirement already satisfied: importlib-metadata>=1.7.0 in /home/fcmacedo/.local/lib/python3.10/site-packages (from great_expectations==0.16.13) (6.8.0)\n",
      "Requirement already satisfied: Ipython>=7.16.3 in /home/fcmacedo/.local/lib/python3.10/site-packages (from great_expectations==0.16.13) (8.12.0)\n",
      "Requirement already satisfied: ipywidgets>=7.5.1 in /home/fcmacedo/.local/lib/python3.10/site-packages (from great_expectations==0.16.13) (8.0.6)\n",
      "Requirement already satisfied: jinja2>=2.10 in /home/fcmacedo/.local/lib/python3.10/site-packages (from great_expectations==0.16.13) (3.1.2)\n",
      "Requirement already satisfied: jsonpatch>=1.22 in /home/fcmacedo/.local/lib/python3.10/site-packages (from great_expectations==0.16.13) (1.32)\n",
      "Requirement already satisfied: jsonschema>=2.5.1 in /home/fcmacedo/.local/lib/python3.10/site-packages (from great_expectations==0.16.13) (4.17.3)\n",
      "Requirement already satisfied: makefun<2,>=1.7.0 in /home/fcmacedo/.local/lib/python3.10/site-packages (from great_expectations==0.16.13) (1.15.1)\n",
      "Requirement already satisfied: marshmallow<4.0.0,>=3.7.1 in /home/fcmacedo/.local/lib/python3.10/site-packages (from great_expectations==0.16.13) (3.19.0)\n",
      "Requirement already satisfied: mistune>=0.8.4 in /home/fcmacedo/.local/lib/python3.10/site-packages (from great_expectations==0.16.13) (2.0.5)\n",
      "Requirement already satisfied: nbformat>=5.0 in /home/fcmacedo/.local/lib/python3.10/site-packages (from great_expectations==0.16.13) (5.8.0)\n",
      "Requirement already satisfied: notebook>=6.4.10 in /home/fcmacedo/.local/lib/python3.10/site-packages (from great_expectations==0.16.13) (6.5.4)\n",
      "Requirement already satisfied: packaging in /home/fcmacedo/.local/lib/python3.10/site-packages (from great_expectations==0.16.13) (23.1)\n",
      "Requirement already satisfied: pydantic<2.0,>=1.9.2 in /home/fcmacedo/.local/lib/python3.10/site-packages (from great_expectations==0.16.13) (1.10.7)\n",
      "Requirement already satisfied: pyparsing>=2.4 in /usr/lib/python3/dist-packages (from great_expectations==0.16.13) (2.4.7)\n",
      "Requirement already satisfied: python-dateutil>=2.8.1 in /home/fcmacedo/.local/lib/python3.10/site-packages (from great_expectations==0.16.13) (2.8.2)\n",
      "Requirement already satisfied: pytz>=2021.3 in /home/fcmacedo/.local/lib/python3.10/site-packages (from great_expectations==0.16.13) (2023.3)\n",
      "Requirement already satisfied: requests>=2.20 in /home/fcmacedo/.local/lib/python3.10/site-packages (from great_expectations==0.16.13) (2.31.0)\n",
      "Requirement already satisfied: ruamel.yaml<0.17.18,>=0.16 in /home/fcmacedo/.local/lib/python3.10/site-packages (from great_expectations==0.16.13) (0.17.17)\n",
      "Requirement already satisfied: scipy>=1.6.0 in /home/fcmacedo/.local/lib/python3.10/site-packages (from great_expectations==0.16.13) (1.10.1)\n",
      "Requirement already satisfied: tqdm>=4.59.0 in /home/fcmacedo/.local/lib/python3.10/site-packages (from great_expectations==0.16.13) (4.65.0)\n",
      "Requirement already satisfied: typing-extensions>=3.10.0.0 in /home/fcmacedo/.local/lib/python3.10/site-packages (from great_expectations==0.16.13) (4.4.0)\n",
      "Requirement already satisfied: tzlocal>=1.2 in /home/fcmacedo/.local/lib/python3.10/site-packages (from great_expectations==0.16.13) (4.2)\n",
      "Requirement already satisfied: urllib3>=1.26 in /home/fcmacedo/.local/lib/python3.10/site-packages (from great_expectations==0.16.13) (1.26.16)\n",
      "Requirement already satisfied: numpy>=1.23.0 in /home/fcmacedo/.local/lib/python3.10/site-packages (from great_expectations==0.16.13) (1.23.5)\n",
      "Requirement already satisfied: pandas<2.0.0,>=1.3.0 in /home/fcmacedo/.local/lib/python3.10/site-packages (from great_expectations==0.16.13) (1.5.3)\n",
      "Requirement already satisfied: entrypoints in /home/fcmacedo/.local/lib/python3.10/site-packages (from altair<5.0.0,>=4.2.1->great_expectations==0.16.13) (0.4)\n",
      "Requirement already satisfied: toolz in /home/fcmacedo/.local/lib/python3.10/site-packages (from altair<5.0.0,>=4.2.1->great_expectations==0.16.13) (0.12.0)\n",
      "Requirement already satisfied: cffi>=1.12 in /home/fcmacedo/.local/lib/python3.10/site-packages (from cryptography>=3.2->great_expectations==0.16.13) (1.15.1)\n",
      "Requirement already satisfied: zipp>=0.5 in /home/fcmacedo/.local/lib/python3.10/site-packages (from importlib-metadata>=1.7.0->great_expectations==0.16.13) (3.16.2)\n",
      "Requirement already satisfied: backcall in /home/fcmacedo/.local/lib/python3.10/site-packages (from Ipython>=7.16.3->great_expectations==0.16.13) (0.2.0)\n",
      "Requirement already satisfied: decorator in /home/fcmacedo/.local/lib/python3.10/site-packages (from Ipython>=7.16.3->great_expectations==0.16.13) (5.1.1)\n",
      "Requirement already satisfied: jedi>=0.16 in /home/fcmacedo/.local/lib/python3.10/site-packages (from Ipython>=7.16.3->great_expectations==0.16.13) (0.18.2)\n",
      "Requirement already satisfied: matplotlib-inline in /home/fcmacedo/.local/lib/python3.10/site-packages (from Ipython>=7.16.3->great_expectations==0.16.13) (0.1.6)\n",
      "Requirement already satisfied: pickleshare in /home/fcmacedo/.local/lib/python3.10/site-packages (from Ipython>=7.16.3->great_expectations==0.16.13) (0.7.5)\n",
      "Requirement already satisfied: prompt-toolkit!=3.0.37,<3.1.0,>=3.0.30 in /home/fcmacedo/.local/lib/python3.10/site-packages (from Ipython>=7.16.3->great_expectations==0.16.13) (3.0.38)\n",
      "Requirement already satisfied: pygments>=2.4.0 in /home/fcmacedo/.local/lib/python3.10/site-packages (from Ipython>=7.16.3->great_expectations==0.16.13) (2.15.0)\n",
      "Requirement already satisfied: stack-data in /home/fcmacedo/.local/lib/python3.10/site-packages (from Ipython>=7.16.3->great_expectations==0.16.13) (0.6.2)\n",
      "Requirement already satisfied: traitlets>=5 in /home/fcmacedo/.local/lib/python3.10/site-packages (from Ipython>=7.16.3->great_expectations==0.16.13) (5.9.0)\n",
      "Requirement already satisfied: pexpect>4.3 in /home/fcmacedo/.local/lib/python3.10/site-packages (from Ipython>=7.16.3->great_expectations==0.16.13) (4.8.0)\n",
      "Requirement already satisfied: ipykernel>=4.5.1 in /home/fcmacedo/.local/lib/python3.10/site-packages (from ipywidgets>=7.5.1->great_expectations==0.16.13) (6.22.0)\n",
      "Requirement already satisfied: widgetsnbextension~=4.0.7 in /home/fcmacedo/.local/lib/python3.10/site-packages (from ipywidgets>=7.5.1->great_expectations==0.16.13) (4.0.7)\n",
      "Requirement already satisfied: jupyterlab-widgets~=3.0.7 in /home/fcmacedo/.local/lib/python3.10/site-packages (from ipywidgets>=7.5.1->great_expectations==0.16.13) (3.0.7)\n",
      "Requirement already satisfied: MarkupSafe>=2.0 in /home/fcmacedo/.local/lib/python3.10/site-packages (from jinja2>=2.10->great_expectations==0.16.13) (2.1.2)\n",
      "Requirement already satisfied: jsonpointer>=1.9 in /home/fcmacedo/.local/lib/python3.10/site-packages (from jsonpatch>=1.22->great_expectations==0.16.13) (2.3)\n",
      "Requirement already satisfied: attrs>=17.4.0 in /home/fcmacedo/.local/lib/python3.10/site-packages (from jsonschema>=2.5.1->great_expectations==0.16.13) (23.1.0)\n",
      "Requirement already satisfied: pyrsistent!=0.17.0,!=0.17.1,!=0.17.2,>=0.14.0 in /home/fcmacedo/.local/lib/python3.10/site-packages (from jsonschema>=2.5.1->great_expectations==0.16.13) (0.19.3)\n",
      "Requirement already satisfied: fastjsonschema in /home/fcmacedo/.local/lib/python3.10/site-packages (from nbformat>=5.0->great_expectations==0.16.13) (2.16.3)\n",
      "Requirement already satisfied: jupyter-core in /home/fcmacedo/.local/lib/python3.10/site-packages (from nbformat>=5.0->great_expectations==0.16.13) (5.3.0)\n",
      "Requirement already satisfied: tornado>=6.1 in /home/fcmacedo/.local/lib/python3.10/site-packages (from notebook>=6.4.10->great_expectations==0.16.13) (6.2)\n",
      "Requirement already satisfied: pyzmq>=17 in /home/fcmacedo/.local/lib/python3.10/site-packages (from notebook>=6.4.10->great_expectations==0.16.13) (25.0.2)\n",
      "Requirement already satisfied: argon2-cffi in /home/fcmacedo/.local/lib/python3.10/site-packages (from notebook>=6.4.10->great_expectations==0.16.13) (21.3.0)\n",
      "Requirement already satisfied: jupyter-client>=5.3.4 in /home/fcmacedo/.local/lib/python3.10/site-packages (from notebook>=6.4.10->great_expectations==0.16.13) (8.2.0)\n",
      "Requirement already satisfied: ipython-genutils in /home/fcmacedo/.local/lib/python3.10/site-packages (from notebook>=6.4.10->great_expectations==0.16.13) (0.2.0)\n",
      "Requirement already satisfied: nbconvert>=5 in /home/fcmacedo/.local/lib/python3.10/site-packages (from notebook>=6.4.10->great_expectations==0.16.13) (7.3.1)\n",
      "Requirement already satisfied: nest-asyncio>=1.5 in /home/fcmacedo/.local/lib/python3.10/site-packages (from notebook>=6.4.10->great_expectations==0.16.13) (1.5.6)\n",
      "Requirement already satisfied: Send2Trash>=1.8.0 in /home/fcmacedo/.local/lib/python3.10/site-packages (from notebook>=6.4.10->great_expectations==0.16.13) (1.8.0)\n",
      "Requirement already satisfied: terminado>=0.8.3 in /home/fcmacedo/.local/lib/python3.10/site-packages (from notebook>=6.4.10->great_expectations==0.16.13) (0.17.1)\n",
      "Requirement already satisfied: prometheus-client in /home/fcmacedo/.local/lib/python3.10/site-packages (from notebook>=6.4.10->great_expectations==0.16.13) (0.16.0)\n",
      "Requirement already satisfied: nbclassic>=0.4.7 in /home/fcmacedo/.local/lib/python3.10/site-packages (from notebook>=6.4.10->great_expectations==0.16.13) (0.5.5)\n"
     ]
    },
    {
     "name": "stdout",
     "output_type": "stream",
     "text": [
      "Requirement already satisfied: six>=1.5 in /home/fcmacedo/.local/lib/python3.10/site-packages (from python-dateutil>=2.8.1->great_expectations==0.16.13) (1.16.0)\n",
      "Requirement already satisfied: charset-normalizer<4,>=2 in /home/fcmacedo/.local/lib/python3.10/site-packages (from requests>=2.20->great_expectations==0.16.13) (3.2.0)\n",
      "Requirement already satisfied: idna<4,>=2.5 in /home/fcmacedo/.local/lib/python3.10/site-packages (from requests>=2.20->great_expectations==0.16.13) (3.4)\n",
      "Requirement already satisfied: certifi>=2017.4.17 in /home/fcmacedo/.local/lib/python3.10/site-packages (from requests>=2.20->great_expectations==0.16.13) (2023.7.22)\n",
      "Requirement already satisfied: pytz-deprecation-shim in /home/fcmacedo/.local/lib/python3.10/site-packages (from tzlocal>=1.2->great_expectations==0.16.13) (0.1.0.post0)\n",
      "Requirement already satisfied: pycparser in /home/fcmacedo/.local/lib/python3.10/site-packages (from cffi>=1.12->cryptography>=3.2->great_expectations==0.16.13) (2.21)\n",
      "Requirement already satisfied: comm>=0.1.1 in /home/fcmacedo/.local/lib/python3.10/site-packages (from ipykernel>=4.5.1->ipywidgets>=7.5.1->great_expectations==0.16.13) (0.1.3)\n",
      "Requirement already satisfied: debugpy>=1.6.5 in /home/fcmacedo/.local/lib/python3.10/site-packages (from ipykernel>=4.5.1->ipywidgets>=7.5.1->great_expectations==0.16.13) (1.6.7)\n",
      "Requirement already satisfied: psutil in /home/fcmacedo/.local/lib/python3.10/site-packages (from ipykernel>=4.5.1->ipywidgets>=7.5.1->great_expectations==0.16.13) (5.9.5)\n",
      "Requirement already satisfied: parso<0.9.0,>=0.8.0 in /home/fcmacedo/.local/lib/python3.10/site-packages (from jedi>=0.16->Ipython>=7.16.3->great_expectations==0.16.13) (0.8.3)\n",
      "Requirement already satisfied: platformdirs>=2.5 in /home/fcmacedo/.local/lib/python3.10/site-packages (from jupyter-core->nbformat>=5.0->great_expectations==0.16.13) (3.2.0)\n",
      "Requirement already satisfied: jupyter-server>=1.8 in /home/fcmacedo/.local/lib/python3.10/site-packages (from nbclassic>=0.4.7->notebook>=6.4.10->great_expectations==0.16.13) (2.5.0)\n",
      "Requirement already satisfied: notebook-shim>=0.1.0 in /home/fcmacedo/.local/lib/python3.10/site-packages (from nbclassic>=0.4.7->notebook>=6.4.10->great_expectations==0.16.13) (0.2.2)\n",
      "Requirement already satisfied: beautifulsoup4 in /home/fcmacedo/.local/lib/python3.10/site-packages (from nbconvert>=5->notebook>=6.4.10->great_expectations==0.16.13) (4.12.2)\n",
      "Requirement already satisfied: bleach in /home/fcmacedo/.local/lib/python3.10/site-packages (from nbconvert>=5->notebook>=6.4.10->great_expectations==0.16.13) (6.0.0)\n",
      "Requirement already satisfied: defusedxml in /home/fcmacedo/.local/lib/python3.10/site-packages (from nbconvert>=5->notebook>=6.4.10->great_expectations==0.16.13) (0.7.1)\n",
      "Requirement already satisfied: jupyterlab-pygments in /home/fcmacedo/.local/lib/python3.10/site-packages (from nbconvert>=5->notebook>=6.4.10->great_expectations==0.16.13) (0.2.2)\n",
      "Requirement already satisfied: nbclient>=0.5.0 in /home/fcmacedo/.local/lib/python3.10/site-packages (from nbconvert>=5->notebook>=6.4.10->great_expectations==0.16.13) (0.7.3)\n",
      "Requirement already satisfied: pandocfilters>=1.4.1 in /home/fcmacedo/.local/lib/python3.10/site-packages (from nbconvert>=5->notebook>=6.4.10->great_expectations==0.16.13) (1.5.0)\n",
      "Requirement already satisfied: tinycss2 in /home/fcmacedo/.local/lib/python3.10/site-packages (from nbconvert>=5->notebook>=6.4.10->great_expectations==0.16.13) (1.2.1)\n",
      "Requirement already satisfied: ptyprocess>=0.5 in /home/fcmacedo/.local/lib/python3.10/site-packages (from pexpect>4.3->Ipython>=7.16.3->great_expectations==0.16.13) (0.7.0)\n",
      "Requirement already satisfied: wcwidth in /home/fcmacedo/.local/lib/python3.10/site-packages (from prompt-toolkit!=3.0.37,<3.1.0,>=3.0.30->Ipython>=7.16.3->great_expectations==0.16.13) (0.2.6)\n",
      "Requirement already satisfied: argon2-cffi-bindings in /home/fcmacedo/.local/lib/python3.10/site-packages (from argon2-cffi->notebook>=6.4.10->great_expectations==0.16.13) (21.2.0)\n",
      "Requirement already satisfied: tzdata in /home/fcmacedo/.local/lib/python3.10/site-packages (from pytz-deprecation-shim->tzlocal>=1.2->great_expectations==0.16.13) (2023.3)\n",
      "Requirement already satisfied: executing>=1.2.0 in /home/fcmacedo/.local/lib/python3.10/site-packages (from stack-data->Ipython>=7.16.3->great_expectations==0.16.13) (1.2.0)\n",
      "Requirement already satisfied: asttokens>=2.1.0 in /home/fcmacedo/.local/lib/python3.10/site-packages (from stack-data->Ipython>=7.16.3->great_expectations==0.16.13) (2.2.1)\n",
      "Requirement already satisfied: pure-eval in /home/fcmacedo/.local/lib/python3.10/site-packages (from stack-data->Ipython>=7.16.3->great_expectations==0.16.13) (0.2.2)\n",
      "Requirement already satisfied: anyio>=3.1.0 in /home/fcmacedo/.local/lib/python3.10/site-packages (from jupyter-server>=1.8->nbclassic>=0.4.7->notebook>=6.4.10->great_expectations==0.16.13) (3.6.2)\n",
      "Requirement already satisfied: jupyter-events>=0.4.0 in /home/fcmacedo/.local/lib/python3.10/site-packages (from jupyter-server>=1.8->nbclassic>=0.4.7->notebook>=6.4.10->great_expectations==0.16.13) (0.6.3)\n",
      "Requirement already satisfied: jupyter-server-terminals in /home/fcmacedo/.local/lib/python3.10/site-packages (from jupyter-server>=1.8->nbclassic>=0.4.7->notebook>=6.4.10->great_expectations==0.16.13) (0.4.4)\n",
      "Requirement already satisfied: websocket-client in /home/fcmacedo/.local/lib/python3.10/site-packages (from jupyter-server>=1.8->nbclassic>=0.4.7->notebook>=6.4.10->great_expectations==0.16.13) (1.5.1)\n",
      "Requirement already satisfied: soupsieve>1.2 in /home/fcmacedo/.local/lib/python3.10/site-packages (from beautifulsoup4->nbconvert>=5->notebook>=6.4.10->great_expectations==0.16.13) (2.4.1)\n",
      "Requirement already satisfied: webencodings in /home/fcmacedo/.local/lib/python3.10/site-packages (from bleach->nbconvert>=5->notebook>=6.4.10->great_expectations==0.16.13) (0.5.1)\n",
      "Requirement already satisfied: sniffio>=1.1 in /home/fcmacedo/.local/lib/python3.10/site-packages (from anyio>=3.1.0->jupyter-server>=1.8->nbclassic>=0.4.7->notebook>=6.4.10->great_expectations==0.16.13) (1.3.0)\n",
      "Requirement already satisfied: python-json-logger>=2.0.4 in /home/fcmacedo/.local/lib/python3.10/site-packages (from jupyter-events>=0.4.0->jupyter-server>=1.8->nbclassic>=0.4.7->notebook>=6.4.10->great_expectations==0.16.13) (2.0.7)\n",
      "Requirement already satisfied: pyyaml>=5.3 in /home/fcmacedo/.local/lib/python3.10/site-packages (from jupyter-events>=0.4.0->jupyter-server>=1.8->nbclassic>=0.4.7->notebook>=6.4.10->great_expectations==0.16.13) (6.0.1)\n",
      "Requirement already satisfied: rfc3339-validator in /home/fcmacedo/.local/lib/python3.10/site-packages (from jupyter-events>=0.4.0->jupyter-server>=1.8->nbclassic>=0.4.7->notebook>=6.4.10->great_expectations==0.16.13) (0.1.4)\n",
      "Requirement already satisfied: rfc3986-validator>=0.1.1 in /home/fcmacedo/.local/lib/python3.10/site-packages (from jupyter-events>=0.4.0->jupyter-server>=1.8->nbclassic>=0.4.7->notebook>=6.4.10->great_expectations==0.16.13) (0.1.1)\n",
      "Requirement already satisfied: fqdn in /home/fcmacedo/.local/lib/python3.10/site-packages (from jsonschema>=2.5.1->great_expectations==0.16.13) (1.5.1)\n",
      "Requirement already satisfied: isoduration in /home/fcmacedo/.local/lib/python3.10/site-packages (from jsonschema>=2.5.1->great_expectations==0.16.13) (20.11.0)\n",
      "Requirement already satisfied: uri-template in /home/fcmacedo/.local/lib/python3.10/site-packages (from jsonschema>=2.5.1->great_expectations==0.16.13) (1.2.0)\n",
      "Requirement already satisfied: webcolors>=1.11 in /home/fcmacedo/.local/lib/python3.10/site-packages (from jsonschema>=2.5.1->great_expectations==0.16.13) (1.13)\n",
      "Requirement already satisfied: arrow>=0.15.0 in /home/fcmacedo/.local/lib/python3.10/site-packages (from isoduration->jsonschema>=2.5.1->great_expectations==0.16.13) (1.2.3)\n",
      "Downloading great_expectations-0.16.13-py3-none-any.whl (5.3 MB)\n",
      "\u001b[2K   \u001b[90m━━━━━━━━━━━━━━━━━━━━━━━━━━━━━━━━━━━━━━━━\u001b[0m \u001b[32m5.3/5.3 MB\u001b[0m \u001b[31m22.3 MB/s\u001b[0m eta \u001b[36m0:00:00\u001b[0m00:01\u001b[0m00:01\u001b[0m\n",
      "\u001b[?25h\u001b[33mDEPRECATION: distro-info 1.1build1 has a non-standard version number. pip 23.3 will enforce this behaviour change. A possible replacement is to upgrade to a newer version of distro-info or contact the author to suggest that they release a version with a conforming version number. Discussion can be found at https://github.com/pypa/pip/issues/12063\u001b[0m\u001b[33m\n",
      "\u001b[0mInstalling collected packages: great_expectations\n",
      "  Attempting uninstall: great_expectations\n",
      "    Found existing installation: great-expectations 0.17.12\n"
     ]
    },
    {
     "name": "stdout",
     "output_type": "stream",
     "text": [
      "    Uninstalling great-expectations-0.17.12:\n",
      "      Successfully uninstalled great-expectations-0.17.12\n",
      "Successfully installed great_expectations-0.16.13\n"
     ]
    }
   ],
   "source": [
    "!pip install great_expectations==0.16.13"
   ]
  },
  {
   "cell_type": "code",
   "execution_count": 4,
   "id": "6ca90970",
   "metadata": {},
   "outputs": [],
   "source": [
    "def create_spark_session():\n",
    "    \n",
    "    \"\"\"\n",
    "    Create the spark session with the passed configs.\n",
    "    \"\"\"\n",
    "    \n",
    "    spark = SparkSession \\\n",
    "        .builder \\\n",
    "        .appName(\"How-Desafio-02\")\\\n",
    "        .getOrCreate()\n",
    "\n",
    "    return spark"
   ]
  },
  {
   "cell_type": "code",
   "execution_count": 5,
   "id": "8f0e7800",
   "metadata": {},
   "outputs": [],
   "source": [
    "def process_order(spark, input_data, output_data):\n",
    "\n",
    "    \"\"\"\n",
    "    Perform ETL on orders to create the orders_silver:\n",
    "    - Extract the match result data and insert in the match_results table.\n",
    "      \n",
    "    Parameters:\n",
    "    - spark: spark session\n",
    "    - input_data : path to input files\n",
    "    - output_data : path to output files\n",
    "    \"\"\"\n",
    "\n",
    "\n",
    "    #reading json files\n",
    "    order_file_Path = input_data\n",
    "\n",
    "    orders_df = (spark.read\n",
    "                  .option(\"inferSchema\", True)\n",
    "                  .json(order_file_Path))\n",
    "    \n",
    "    orders_df_partition = orders_df.withColumn('date_partition', date_format(col('order_created_at'), \"yyyy-MM-dd\"))\n",
    "\n",
    "    data_quality(orders_df_partition)\n",
    "\n",
    "    orders_df_partition.write.parquet(os.path.join(output_data, 'orders.parquet'), 'overwrite')\n",
    "\n",
    "    \n",
    "    print(\"--- orders.parquet completed ---\")"
   ]
  },
  {
   "cell_type": "code",
   "execution_count": 6,
   "id": "f1ac8778",
   "metadata": {},
   "outputs": [],
   "source": [
    "def data_quality(input_dataset):\n",
    "    \n",
    "    gx_context = gx.get_context()\n",
    "    datasource = gx_context.sources.add_spark(\"my_spark_datasource\")\n",
    "\n",
    "    data_asset = datasource.add_dataframe_asset(name=\"my_df_asset\", dataframe=input_dataset).build_batch_request()\n",
    "    \n",
    "    gx_context.add_or_update_expectation_suite(\"my_expectation_suite\")\n",
    "    \n",
    "    #my_batch_request = data_asset\n",
    "    \n",
    "    validator = gx_context.get_validator(\n",
    "    batch_request=data_asset,\n",
    "    expectation_suite_name=\"my_expectation_suite\"\n",
    "                                        )\n",
    "    \n",
    "    order_null = validator.expect_column_values_to_not_be_null(column=\"order_id\")\n",
    "    order_unique = validator.expect_column_values_to_be_unique(column=\"order_id\")\n",
    "    date_format = validator.expect_column_values_to_match_strftime_format(\"date_partition\", \"%Y-%m-%d\")\n",
    "    rows_number = validator.expect_table_row_count_to_be_between(400,600)\n",
    "\n",
    "    \n",
    "    if order_null.success == False :\n",
    "      raise ValueError(f\"Data quality check failed {order_null.expectation_config.kwargs['column']} is null.\")\n",
    "    \n",
    "    elif order_unique.success == False :\n",
    "      raise ValueError(f\"Data quality check failed {order_unique.expectation_config.kwargs['column']} is not unique.\")\n",
    "    \n",
    "    elif date_format.success == False :\n",
    "      raise ValueError(f\"Data quality check failed {date_format.expectation_config.kwargs['column']} is not in {date_format.expectation_config.kwargs['strftime_format']} format.\")\n",
    "    \n",
    "    #elif rows_number.success == False :\n",
    "    #  raise ValueError(f\"Data quality check failed number of rows is not between {rows_number.expectation_config.kwargs['min_value']} and {rows_number.expectation_config.kwargs['max_value']}.\")\n",
    "    \n",
    "    else: logger.info(f\"All validators passed with success!\")\n",
    "    "
   ]
  },
  {
   "cell_type": "code",
   "execution_count": 7,
   "id": "ddb75bed",
   "metadata": {},
   "outputs": [
    {
     "name": "stderr",
     "output_type": "stream",
     "text": [
      "23/09/01 14:22:51 WARN Utils: Your hostname, 14111-NB resolves to a loopback address: 127.0.1.1; using 172.26.45.45 instead (on interface eth0)\n",
      "23/09/01 14:22:51 WARN Utils: Set SPARK_LOCAL_IP if you need to bind to another address\n",
      "Setting default log level to \"WARN\".\n",
      "To adjust logging level use sc.setLogLevel(newLevel). For SparkR, use setLogLevel(newLevel).\n",
      "23/09/01 14:22:52 WARN NativeCodeLoader: Unable to load native-hadoop library for your platform... using builtin-java classes where applicable\n",
      "                                                                                \r"
     ]
    }
   ],
   "source": [
    "order_file_Path = \"./order-data/*/*.json\"\n",
    "\n",
    "spark = create_spark_session()\n",
    "\n",
    "orders_df = (spark.read\n",
    "                  .option(\"inferSchema\", True)\n",
    "                  .json(order_file_Path))"
   ]
  },
  {
   "cell_type": "code",
   "execution_count": 8,
   "id": "618fbdb2",
   "metadata": {},
   "outputs": [],
   "source": [
    "orders_df_partition = orders_df.withColumn('date_partition', date_format(col('order_created_at'), \"yyyy-MM-dd\"))"
   ]
  },
  {
   "cell_type": "code",
   "execution_count": 9,
   "id": "ce3e0c27",
   "metadata": {},
   "outputs": [
    {
     "name": "stderr",
     "output_type": "stream",
     "text": [
      "INFO:great_expectations.util:Could not find local file-backed GX project\n",
      "INFO:great_expectations.data_context.types.base:Created temporary directory '/tmp/tmppfcg1p0r' for ephemeral docs site\n",
      "INFO:great_expectations.data_context.data_context.abstract_data_context:EphemeralDataContext has not implemented `_load_fluent_config()` returning empty `GxConfig`\n",
      "INFO:great_expectations.datasource.fluent.config:Loading 'datasources' ->\n",
      "[]\n",
      "INFO:great_expectations.datasource.fluent.fluent_base_model:SparkDatasource.dict() - substituting config values\n",
      "23/09/01 14:26:00 WARN SparkSession: Using an existing Spark session; only runtime SQL configurations will take effect.\n",
      "WARNING:py.warnings:/home/fcmacedo/.local/lib/python3.10/site-packages/great_expectations/expectations/expectation.py:1479: UserWarning: `result_format` configured at the Validator-level will not be persisted. Please add the configuration to your Checkpoint config or checkpoint_run() method instead.\n",
      "  \n",
      "\n"
     ]
    },
    {
     "data": {
      "application/vnd.jupyter.widget-view+json": {
       "model_id": "2eb7b19984194ac4a505ff969c80dcd7",
       "version_major": 2,
       "version_minor": 0
      },
      "text/plain": [
       "Calculating Metrics:   0%|          | 0/8 [00:00<?, ?it/s]"
      ]
     },
     "metadata": {},
     "output_type": "display_data"
    },
    {
     "name": "stderr",
     "output_type": "stream",
     "text": [
      "                                                                                \r"
     ]
    },
    {
     "data": {
      "application/vnd.jupyter.widget-view+json": {
       "model_id": "9b7349c9bfa14f03ac78ab25140c48c7",
       "version_major": 2,
       "version_minor": 0
      },
      "text/plain": [
       "Calculating Metrics:   0%|          | 0/10 [00:00<?, ?it/s]"
      ]
     },
     "metadata": {},
     "output_type": "display_data"
    },
    {
     "name": "stderr",
     "output_type": "stream",
     "text": [
      "                                                                                \r"
     ]
    },
    {
     "data": {
      "application/vnd.jupyter.widget-view+json": {
       "model_id": "9b865de2dbf44b59a980c936a13bb486",
       "version_major": 2,
       "version_minor": 0
      },
      "text/plain": [
       "Calculating Metrics:   0%|          | 0/11 [00:00<?, ?it/s]"
      ]
     },
     "metadata": {},
     "output_type": "display_data"
    },
    {
     "name": "stderr",
     "output_type": "stream",
     "text": [
      "                                                                                \r"
     ]
    },
    {
     "data": {
      "application/vnd.jupyter.widget-view+json": {
       "model_id": "18de7037b61a424baa1ac915b5b08ea0",
       "version_major": 2,
       "version_minor": 0
      },
      "text/plain": [
       "Calculating Metrics:   0%|          | 0/2 [00:00<?, ?it/s]"
      ]
     },
     "metadata": {},
     "output_type": "display_data"
    },
    {
     "name": "stderr",
     "output_type": "stream",
     "text": [
      "INFO:__main__:All validators passed with success!\n"
     ]
    }
   ],
   "source": [
    "data_quality(orders_df_partition)\n"
   ]
  },
  {
   "cell_type": "code",
   "execution_count": null,
   "id": "2f642104",
   "metadata": {},
   "outputs": [],
   "source": []
  },
  {
   "cell_type": "code",
   "execution_count": null,
   "id": "4df312f6",
   "metadata": {},
   "outputs": [],
   "source": []
  }
 ],
 "metadata": {
  "kernelspec": {
   "display_name": "Python 3 (ipykernel)",
   "language": "python",
   "name": "python3"
  },
  "language_info": {
   "codemirror_mode": {
    "name": "ipython",
    "version": 3
   },
   "file_extension": ".py",
   "mimetype": "text/x-python",
   "name": "python",
   "nbconvert_exporter": "python",
   "pygments_lexer": "ipython3",
   "version": "3.10.6"
  }
 },
 "nbformat": 4,
 "nbformat_minor": 5
}
