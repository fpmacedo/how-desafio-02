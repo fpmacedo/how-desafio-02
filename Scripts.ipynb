{
 "cells": [
  {
   "cell_type": "code",
   "execution_count": 32,
   "id": "ef62c91e",
   "metadata": {},
   "outputs": [],
   "source": [
    "import pyspark\n",
    "from pyspark.sql.functions import *\n",
    "from pyspark.sql import SparkSession\n",
    "import logging\n",
    "import os\n",
    "import great_expectations as gx\n",
    "logger = logging.getLogger(__name__)\n",
    "logging.basicConfig(level=logging.INFO)"
   ]
  },
  {
   "cell_type": "code",
   "execution_count": 2,
   "id": "6ca90970",
   "metadata": {},
   "outputs": [],
   "source": [
    "def create_spark_session():\n",
    "    \n",
    "    \"\"\"\n",
    "    Create the spark session with the passed configs.\n",
    "    \"\"\"\n",
    "    \n",
    "    spark = SparkSession \\\n",
    "        .builder \\\n",
    "        .appName(\"How-Desafio-02\")\\\n",
    "        .getOrCreate()\n",
    "\n",
    "    return spark"
   ]
  },
  {
   "cell_type": "code",
   "execution_count": 3,
   "id": "8f0e7800",
   "metadata": {},
   "outputs": [],
   "source": [
    "def process_order(spark, input_data, output_data):\n",
    "\n",
    "    \"\"\"\n",
    "    Perform ETL on orders to create the orders_silver:\n",
    "    - Extract the match result data and insert in the match_results table.\n",
    "      \n",
    "    Parameters:\n",
    "    - spark: spark session\n",
    "    - input_data : path to input files\n",
    "    - output_data : path to output files\n",
    "    \"\"\"\n",
    "\n",
    "\n",
    "    #reading json files\n",
    "    order_file_Path = input_data\n",
    "\n",
    "    orders_df = (spark.read\n",
    "                  .option(\"inferSchema\", True)\n",
    "                  .json(order_file_Path))\n",
    "    \n",
    "    orders_df_partition = orders_df.withColumn('date_partition', date_format(col('order_created_at'), \"yyyy-MM-dd\"))\n",
    "\n",
    "    data_quality(orders_df_partition)\n",
    "\n",
    "    orders_df_partition.write.parquet(os.path.join(output_data, 'orders.parquet'), 'overwrite')\n",
    "\n",
    "    \n",
    "    print(\"--- orders.parquet completed ---\")"
   ]
  },
  {
   "cell_type": "code",
   "execution_count": 4,
   "id": "f1ac8778",
   "metadata": {},
   "outputs": [],
   "source": [
    "def data_quality(input_dataset):\n",
    "    \n",
    "    gx_context = gx.get_context()\n",
    "    datasource = gx_context.sources.add_spark(\"my_spark_datasource\")\n",
    "\n",
    "    data_asset = datasource.add_dataframe_asset(name=\"my_df_asset\", dataframe=input_dataset).build_batch_request()\n",
    "    \n",
    "    gx_context.add_or_update_expectation_suite(\"my_expectation_suite\")\n",
    "    \n",
    "    #my_batch_request = data_asset\n",
    "    \n",
    "    validator = gx_context.get_validator(\n",
    "    batch_request=data_asset,\n",
    "    expectation_suite_name=\"my_expectation_suite\"\n",
    "                                        )\n",
    "    \n",
    "    order_null = validator.expect_column_values_to_not_be_null(column=\"order_id\")\n",
    "    order_unique = validator.expect_column_values_to_be_unique(column=\"order_id\")\n",
    "    date_format = validator.expect_column_values_to_match_strftime_format(\"date_partition\", \"%Y-%m-%d\")\n",
    "    rows_number = validator.expect_table_row_count_to_be_between(400,600)\n",
    "\n",
    "    \n",
    "    if order_null.success == False :\n",
    "      raise ValueError(f\"Data quality check failed {order_null.expectation_config.kwargs['column']} is null.\")\n",
    "    \n",
    "    elif order_unique.success == False :\n",
    "      raise ValueError(f\"Data quality check failed {order_unique.expectation_config.kwargs['column']} is not unique.\")\n",
    "    \n",
    "    elif date_format.success == False :\n",
    "      raise ValueError(f\"Data quality check failed {date_format.expectation_config.kwargs['column']} is not in {date_format.expectation_config.kwargs['strftime_format']} format.\")\n",
    "    \n",
    "    #elif rows_number.success == False :\n",
    "    #  raise ValueError(f\"Data quality check failed number of rows is not between {rows_number.expectation_config.kwargs['min_value']} and {rows_number.expectation_config.kwargs['max_value']}.\")\n",
    "    \n",
    "    else: logger.info(f\"All validators passed with success!\")\n",
    "    "
   ]
  },
  {
   "cell_type": "code",
   "execution_count": 5,
   "id": "ddb75bed",
   "metadata": {},
   "outputs": [
    {
     "name": "stderr",
     "output_type": "stream",
     "text": [
      "23/09/02 18:15:19 WARN Utils: Your hostname, 14111-NB resolves to a loopback address: 127.0.1.1; using 172.26.45.45 instead (on interface eth0)\n",
      "23/09/02 18:15:19 WARN Utils: Set SPARK_LOCAL_IP if you need to bind to another address\n",
      "Setting default log level to \"WARN\".\n",
      "To adjust logging level use sc.setLogLevel(newLevel). For SparkR, use setLogLevel(newLevel).\n",
      "23/09/02 18:15:21 WARN NativeCodeLoader: Unable to load native-hadoop library for your platform... using builtin-java classes where applicable\n",
      "23/09/02 18:15:22 WARN Utils: Service 'SparkUI' could not bind on port 4040. Attempting port 4041.\n",
      "                                                                                \r"
     ]
    }
   ],
   "source": [
    "order_file_Path = \"./order-data/*/*.json\"\n",
    "\n",
    "spark = create_spark_session()\n",
    "\n",
    "orders_df = (spark.read\n",
    "                  .option(\"inferSchema\", True)\n",
    "                  .json(order_file_Path))"
   ]
  },
  {
   "cell_type": "code",
   "execution_count": 8,
   "id": "618fbdb2",
   "metadata": {},
   "outputs": [],
   "source": [
    "orders_df_partition = orders_df.withColumn('date_partition', date_format(col('order_created_at'), \"yyyy-MM-dd\"))"
   ]
  },
  {
   "cell_type": "code",
   "execution_count": 29,
   "id": "ce3e0c27",
   "metadata": {},
   "outputs": [],
   "source": [
    "def data_quality(input_dataset):\n",
    "    \n",
    "    gx_context = gx.get_context()\n",
    "    datasource = gx_context.sources.add_spark(\"my_spark_datasource\")\n",
    "\n",
    "    data_asset = datasource.add_dataframe_asset(name=\"my_df_asset\", dataframe=input_dataset).build_batch_request()\n",
    "    \n",
    "    gx_context.add_or_update_expectation_suite(\"my_expectation_suite\")\n",
    "    \n",
    "    #my_batch_request = data_asset\n",
    "    \n",
    "    validator = gx_context.get_validator(\n",
    "    batch_request=data_asset,\n",
    "    expectation_suite_name=\"my_expectation_suite\"\n",
    "                                        )\n",
    "    \n",
    "    order_null = validator.expect_column_values_to_not_be_null(column=\"customer_id\")\n",
    "    order_unique = validator.expect_column_values_to_be_unique(column=\"customer_id\")\n",
    "    #date_format = validator.expect_column_values_to_match_strftime_format(\"date_partition\", \"%Y-%m-%d\")\n",
    "    #rows_number = validator.expect_table_row_count_to_be_between(400,600)\n",
    "\n",
    "    \n",
    "    if order_null.success == False :\n",
    "      raise ValueError(f\"Data quality check failed {order_null.expectation_config.kwargs['column']} is null.\")\n",
    "    \n",
    "    elif order_unique.success == False :\n",
    "      raise ValueError(f\"Data quality check failed {order_unique.expectation_config.kwargs['column']} is not unique.\")\n",
    "    \n",
    "    else: logger.info(f\"All validators passed with success!\")"
   ]
  },
  {
   "cell_type": "code",
   "execution_count": 30,
   "id": "2f642104",
   "metadata": {},
   "outputs": [],
   "source": [
    "def process_cutomers(spark, input_data, output_data):\n",
    "\n",
    "    \"\"\"\n",
    "    Perform ETL on orders to create the orders_silver:\n",
    "    - Extract the match result data and insert in the customers table.\n",
    "      \n",
    "    Parameters:\n",
    "    - spark: spark session\n",
    "    - input_data : path to input files\n",
    "    - output_data : path to output files\n",
    "    \"\"\"\n",
    "\n",
    "\n",
    "    #reading json files\n",
    "    order_file_Path = input_data\n",
    "    \n",
    "    orders_trusted=spark.read.parquet(order_file_Path)\n",
    "    \n",
    "    customer_data = orders_trusted.select('customer_info.customer_id', 'customer_info.customer_name', 'customer_info.customer_phone_number').distinct()\n",
    "\n",
    "    data_quality(customer_data)\n",
    "\n",
    "    customer_data.write.parquet(os.path.join(output_data, 'customers'), 'overwrite')\n",
    "\n",
    "    \n",
    "    print(\"--- customers.parquet completed ---\")"
   ]
  },
  {
   "cell_type": "code",
   "execution_count": 33,
   "id": "4df312f6",
   "metadata": {},
   "outputs": [
    {
     "name": "stderr",
     "output_type": "stream",
     "text": [
      "INFO:great_expectations.util:Could not find local context root directory\n",
      "INFO:great_expectations.data_context.types.base:Created temporary directory '/tmp/tmprdb2qz9f' for ephemeral docs site\n",
      "INFO:great_expectations.data_context.data_context.abstract_data_context:EphemeralDataContext has not implemented `_load_fluent_config()` returning empty `GxConfig`\n",
      "INFO:great_expectations.datasource.fluent.config:Loading 'datasources' ->\n",
      "[]\n",
      "INFO:great_expectations.datasource.fluent.fluent_base_model:SparkDatasource.dict() - substituting config values\n",
      "23/09/02 18:45:23 WARN CacheManager: Asked to cache already cached data.\n"
     ]
    },
    {
     "data": {
      "application/vnd.jupyter.widget-view+json": {
       "model_id": "ef8b1af8fc0548b7993a5859fe3d32f8",
       "version_major": 2,
       "version_minor": 0
      },
      "text/plain": [
       "Calculating Metrics:   0%|          | 0/8 [00:00<?, ?it/s]"
      ]
     },
     "metadata": {},
     "output_type": "display_data"
    },
    {
     "data": {
      "application/vnd.jupyter.widget-view+json": {
       "model_id": "82196e9a5fc948bcad5ca248b55d4610",
       "version_major": 2,
       "version_minor": 0
      },
      "text/plain": [
       "Calculating Metrics:   0%|          | 0/10 [00:00<?, ?it/s]"
      ]
     },
     "metadata": {},
     "output_type": "display_data"
    },
    {
     "name": "stderr",
     "output_type": "stream",
     "text": [
      "INFO:__main__:All validators passed with success!\n",
      "23/09/02 18:45:25 WARN MemoryManager: Total allocation exceeds 95.00% (906,992,014 bytes) of heap memory\n",
      "Scaling row group sizes to 96.54% for 7 writers\n",
      "23/09/02 18:45:25 WARN MemoryManager: Total allocation exceeds 95.00% (906,992,014 bytes) of heap memory\n",
      "Scaling row group sizes to 84.47% for 8 writers\n",
      "23/09/02 18:45:25 WARN MemoryManager: Total allocation exceeds 95.00% (906,992,014 bytes) of heap memory\n",
      "Scaling row group sizes to 96.54% for 7 writers\n",
      "                                                                                \r"
     ]
    },
    {
     "name": "stdout",
     "output_type": "stream",
     "text": [
      "--- customers.parquet completed ---\n"
     ]
    }
   ],
   "source": [
    "raw = \"order-data/*/*.json\"\n",
    "trusted = \"trusted/\"\n",
    "business = \"business/\"\n",
    "    \n",
    "process_cutomers(spark, trusted, business)"
   ]
  },
  {
   "cell_type": "code",
   "execution_count": 12,
   "id": "ecf08214",
   "metadata": {},
   "outputs": [
    {
     "data": {
      "text/plain": [
       "['customer_info',\n",
       " 'delivery_address',\n",
       " 'order_created_at',\n",
       " 'order_id',\n",
       " 'order_total',\n",
       " 'payment_info',\n",
       " 'product_info',\n",
       " 'date_partition']"
      ]
     },
     "execution_count": 12,
     "metadata": {},
     "output_type": "execute_result"
    }
   ],
   "source": [
    "orders_trusted=spark.read.parquet(\"./trusted/*\")"
   ]
  },
  {
   "cell_type": "code",
   "execution_count": 21,
   "id": "c0ff7a69",
   "metadata": {},
   "outputs": [
    {
     "name": "stderr",
     "output_type": "stream",
     "text": [
      "                                                                                \r"
     ]
    },
    {
     "data": {
      "text/plain": [
       "[Row(customer_info=Row(customer_id='366743c3-ed75-493b-b845-54c2dbe98263', customer_name='Marcos Vinicius Ribeiro', customer_phone_number='+55 71 7042-8010')),\n",
       " Row(customer_info=Row(customer_id='fd647a8d-99a3-4377-a8e4-c694537d89cf', customer_name='Dr. Luiz Fernando Peixoto', customer_phone_number='(041) 3452-3466')),\n",
       " Row(customer_info=Row(customer_id='b6753e9d-1b11-4a76-875a-3db171c10b85', customer_name='Gustavo Henrique Melo', customer_phone_number='(031) 4284 4589')),\n",
       " Row(customer_info=Row(customer_id='d8e7bc3c-170e-4e72-8152-8413dd79809f', customer_name='Yuri Farias', customer_phone_number='61 9321-8257')),\n",
       " Row(customer_info=Row(customer_id='fff26d33-3192-4918-8440-00f9843aef1d', customer_name='Sr. Luiz Henrique Vieira', customer_phone_number='(021) 7678-6374')),\n",
       " Row(customer_info=Row(customer_id='83a1bdab-4302-4075-9463-5d5cd0189026', customer_name='Nicolas Costa', customer_phone_number='0900 654 9045')),\n",
       " Row(customer_info=Row(customer_id='481d0626-a375-43ca-9fd5-c2fc5107ecf2', customer_name='Luiz Felipe Cunha', customer_phone_number='+55 (084) 0349 6230')),\n",
       " Row(customer_info=Row(customer_id='ae9faca0-0c78-4ba8-b323-aaf2721bfd64', customer_name='Otávio Cardoso', customer_phone_number='+55 (021) 2078 5770')),\n",
       " Row(customer_info=Row(customer_id='3ec9798c-d7c0-4058-a37b-21e8ec39d23e', customer_name='Dr. Danilo Sales', customer_phone_number='61 2411 8302')),\n",
       " Row(customer_info=Row(customer_id='3a9c2f35-7797-4ad9-a8b6-7e83affb2292', customer_name='Melissa da Conceição', customer_phone_number='71 8040-4937')),\n",
       " Row(customer_info=Row(customer_id='75956729-aa20-4c13-b9a3-54b68334fe11', customer_name='Dr. Calebe Moura', customer_phone_number='+55 (021) 9252 8578')),\n",
       " Row(customer_info=Row(customer_id='3894e622-50dd-44e1-bcfc-726f728413eb', customer_name='Dr. Leonardo Barros', customer_phone_number='+55 (061) 6589-8832')),\n",
       " Row(customer_info=Row(customer_id='1a07e52c-a86f-4924-8e4f-c9c1be45cf3b', customer_name='Clarice das Neves', customer_phone_number='0900 020 2008')),\n",
       " Row(customer_info=Row(customer_id='15c57b51-b6b6-4b78-a45d-3a7a3f320b02', customer_name='Bernardo Souza', customer_phone_number='11 2033-6330')),\n",
       " Row(customer_info=Row(customer_id='6d8867f8-26fd-4135-ad48-8e9a6fe1f54b', customer_name='João Miguel Sales', customer_phone_number='(021) 1674-4485')),\n",
       " Row(customer_info=Row(customer_id='5478572e-dbf3-4914-8891-a655e0c9f838', customer_name='Kevin da Conceição', customer_phone_number='+55 (041) 2230 3495')),\n",
       " Row(customer_info=Row(customer_id='1d9c849d-2603-4f5e-ae68-eb174f4a6a75', customer_name='Carlos Eduardo Pires', customer_phone_number='+55 (081) 1804-4709')),\n",
       " Row(customer_info=Row(customer_id='9a886157-a067-4566-8410-c552b3094819', customer_name='Yuri da Cruz', customer_phone_number='21 3372 9331')),\n",
       " Row(customer_info=Row(customer_id='05e16191-8a97-40af-8b91-a7b6b5a77b72', customer_name='Yasmin Barros', customer_phone_number='+55 (031) 9737 1677')),\n",
       " Row(customer_info=Row(customer_id='2d6799ef-9d4f-4710-8413-7985eb8328ec', customer_name='Srta. Ana Júlia Ribeiro', customer_phone_number='(081) 9134-6228')),\n",
       " Row(customer_info=Row(customer_id='7a9b8bbf-ad86-4d95-a4a5-2503fa017026', customer_name='Alexandre da Mata', customer_phone_number='+55 (051) 5652-2657')),\n",
       " Row(customer_info=Row(customer_id='cf508f4e-c238-474c-b111-83950c8aaab4', customer_name='Lívia Santos', customer_phone_number='+55 31 0145-7087')),\n",
       " Row(customer_info=Row(customer_id='faa19238-5ec2-4b64-9713-a7f4f83b6f44', customer_name='Ana Carolina Ferreira', customer_phone_number='21 6788-6369')),\n",
       " Row(customer_info=Row(customer_id='ab404c3f-5150-41da-b6b5-26ce8cdeb732', customer_name='Sr. Luiz Gustavo Gonçalves', customer_phone_number='+55 (041) 8913-0387')),\n",
       " Row(customer_info=Row(customer_id='3ad005b2-f746-4ef8-8153-80925551b69e', customer_name='Gabriela Monteiro', customer_phone_number='+55 (051) 1978 9172')),\n",
       " Row(customer_info=Row(customer_id='ed4630e2-7e3c-4a04-85fa-eeb7b2f06f7e', customer_name='Maria Luiza Gonçalves', customer_phone_number='61 2863-2943')),\n",
       " Row(customer_info=Row(customer_id='2db4ac2e-2e80-43d0-bcb5-1f1e761be24f', customer_name='Pedro Miguel Moreira', customer_phone_number='+55 (021) 2071-6513')),\n",
       " Row(customer_info=Row(customer_id='1fccd24c-f346-41e0-abe2-e872092a92f1', customer_name='Dr. Luiz Fernando Alves', customer_phone_number='61 1925 1561')),\n",
       " Row(customer_info=Row(customer_id='4cfb11a8-c73a-47b3-aaf8-d403eac8cb8c', customer_name='André Cardoso', customer_phone_number='+55 (041) 2961-7464')),\n",
       " Row(customer_info=Row(customer_id='670276dc-bb73-4524-9ff4-7d47d0f9ae16', customer_name='Ana Laura Alves', customer_phone_number='+55 (061) 3851-2838')),\n",
       " Row(customer_info=Row(customer_id='3e8e77f1-e774-4770-a706-5dff13d2a899', customer_name='Dr. Rodrigo Nascimento', customer_phone_number='+55 21 8715-8472')),\n",
       " Row(customer_info=Row(customer_id='e4be512b-f32e-4272-bca5-0d8be2573ecc', customer_name='Ana Luiza Lopes', customer_phone_number='+55 81 2526-5862')),\n",
       " Row(customer_info=Row(customer_id='c77b4c9a-a813-4822-bdb0-95686127176f', customer_name='João Felipe Caldeira', customer_phone_number='+55 (071) 2592-8291')),\n",
       " Row(customer_info=Row(customer_id='73375a83-e20c-47c8-8fc6-c5ccd52b7f10', customer_name='Lucca Teixeira', customer_phone_number='0300 955 9847')),\n",
       " Row(customer_info=Row(customer_id='d890816a-ac8d-4722-8b6c-895260fdd4c5', customer_name='Luiz Gustavo Duarte', customer_phone_number='+55 (084) 8399-4064')),\n",
       " Row(customer_info=Row(customer_id='b05bf28c-87f1-442c-9239-38673c6ea599', customer_name='Luiz Fernando Sales', customer_phone_number='(031) 5968 3407')),\n",
       " Row(customer_info=Row(customer_id='eaae8149-80e4-442c-9ed1-4f682fe4d464', customer_name='Rafaela Farias', customer_phone_number='+55 81 4874-8084')),\n",
       " Row(customer_info=Row(customer_id='deb3a694-7d38-4827-ba9a-1f1d6d0efb2a', customer_name='Maria Eduarda Gonçalves', customer_phone_number='+55 (061) 0488 8829')),\n",
       " Row(customer_info=Row(customer_id='7763c1d0-f088-4412-b28a-f106106a8bc7', customer_name='Isis Mendes', customer_phone_number='+55 (021) 2704 8941')),\n",
       " Row(customer_info=Row(customer_id='d04a4d7f-4727-40a1-8f4d-59408f4fe9fb', customer_name='Catarina da Conceição', customer_phone_number='0800 724 7036')),\n",
       " Row(customer_info=Row(customer_id='eb185de5-5890-41ae-a9c8-bac192a462fe', customer_name='Sr. Kevin da Cruz', customer_phone_number='(041) 1707 7308')),\n",
       " Row(customer_info=Row(customer_id='6549aa65-c017-4ba0-bb9d-caaddc06f46e', customer_name='Luiz Henrique Alves', customer_phone_number='+55 61 5828 5333')),\n",
       " Row(customer_info=Row(customer_id='5a6e8a20-a39c-48d3-a4db-c40393e4de8b', customer_name='Pedro Costa', customer_phone_number='+55 (084) 0876 9523')),\n",
       " Row(customer_info=Row(customer_id='ecfa21bd-0ec0-4fe5-87b8-38493589bd71', customer_name='Lorenzo Melo', customer_phone_number='0300 623 1098')),\n",
       " Row(customer_info=Row(customer_id='96dd86e4-af9d-4685-803d-c584b6b7206d', customer_name='Dra. Maria Alice Rodrigues', customer_phone_number='+55 (051) 5200-2363')),\n",
       " Row(customer_info=Row(customer_id='80347992-97bc-45fa-bdef-7080d64d2658', customer_name='Alexandre Carvalho', customer_phone_number='(041) 0810-6342')),\n",
       " Row(customer_info=Row(customer_id='c4ebd206-2189-4918-947b-2186e6c0a18b', customer_name='Gustavo Henrique Novaes', customer_phone_number='+55 21 1247 6341')),\n",
       " Row(customer_info=Row(customer_id='b10d9eb4-3468-4cfa-a772-ea91e58ce371', customer_name='Benjamin Castro', customer_phone_number='+55 (041) 1107 2112')),\n",
       " Row(customer_info=Row(customer_id='0bf9f8d0-e9bd-4cbc-bf9f-268fa1843ace', customer_name='Renan Caldeira', customer_phone_number='+55 (031) 8958 5752')),\n",
       " Row(customer_info=Row(customer_id='31975b1c-4611-412f-844f-cc7dbce8ef96', customer_name='Dr. Pedro Henrique Gonçalves', customer_phone_number='31 7597 8211')),\n",
       " Row(customer_info=Row(customer_id='d38e0fb8-69ee-4760-ad61-54e1e6e46456', customer_name='Maria Sophia Freitas', customer_phone_number='+55 (061) 0315-8629')),\n",
       " Row(customer_info=Row(customer_id='391854bf-ad47-4de4-88e3-445ab040ebc0', customer_name='Luiz Miguel da Rocha', customer_phone_number='+55 (081) 6945 3529')),\n",
       " Row(customer_info=Row(customer_id='53c31700-b26f-419b-a71d-c83e668d970f', customer_name='Caio Gomes', customer_phone_number='+55 84 1850 7018')),\n",
       " Row(customer_info=Row(customer_id='ba213bb5-d69f-4ac5-92b7-2729d64bd308', customer_name='Dr. Diogo Nascimento', customer_phone_number='0500 558 2706')),\n",
       " Row(customer_info=Row(customer_id='10cd686f-dbe4-455b-8e07-02913fad50fe', customer_name='Dra. Maria Alice da Rocha', customer_phone_number='+55 51 6413 2057')),\n",
       " Row(customer_info=Row(customer_id='28772edb-7c2b-4881-9ef4-4f1a1b8574e9', customer_name='Vitor Gabriel Viana', customer_phone_number='+55 61 3284 4874')),\n",
       " Row(customer_info=Row(customer_id='c5a1a2de-f184-4091-96b0-6221801d3743', customer_name='Thales Melo', customer_phone_number='(071) 8623 8061')),\n",
       " Row(customer_info=Row(customer_id='08485bb8-da8d-4e0b-ac73-fa1462783136', customer_name='Maria Julia Gonçalves', customer_phone_number='(081) 7344 6197')),\n",
       " Row(customer_info=Row(customer_id='095387f0-6573-4e08-b73e-2325b94ed30a', customer_name='João Gabriel Monteiro', customer_phone_number='+55 71 5159 5551')),\n",
       " Row(customer_info=Row(customer_id='d6ad55a5-25a7-4c4e-948a-9bde4f4c9e26', customer_name='Luiz Henrique Rodrigues', customer_phone_number='+55 21 1064-3415')),\n",
       " Row(customer_info=Row(customer_id='89c88495-7675-4042-9559-5f825ab07ab6', customer_name='Isabel Freitas', customer_phone_number='+55 21 5148-7038')),\n",
       " Row(customer_info=Row(customer_id='b14dd1b1-bc6d-4ac1-a1ca-003f1952d77d', customer_name='Caroline Carvalho', customer_phone_number='+55 (071) 3128 5656')),\n",
       " Row(customer_info=Row(customer_id='6a77eb2d-0a28-4e18-a5f8-94193c25d5fb', customer_name='Lorena Freitas', customer_phone_number='0800-330-0385')),\n",
       " Row(customer_info=Row(customer_id='7334aa09-02bf-4e3b-a1dc-d43d36ef0ac4', customer_name='André Azevedo', customer_phone_number='+55 (081) 7120-5101')),\n",
       " Row(customer_info=Row(customer_id='b941918a-127c-4401-82d1-65c5b9de8b15', customer_name='Dra. Maria Luiza Pires', customer_phone_number='+55 (011) 0021-5121')),\n",
       " Row(customer_info=Row(customer_id='a552dd4a-8595-4755-8d3f-6fd763759e4e', customer_name='Elisa Almeida', customer_phone_number='+55 (071) 1651-8674')),\n",
       " Row(customer_info=Row(customer_id='8c0dd659-d0ac-4870-8feb-27c97ac61f46', customer_name='Dr. Lucas Gabriel Carvalho', customer_phone_number='+55 (071) 4955-2222')),\n",
       " Row(customer_info=Row(customer_id='9b618504-36ee-4c4a-9c42-3b1e3e0f897e', customer_name='Carolina Silveira', customer_phone_number='+55 (051) 1555-3626')),\n",
       " Row(customer_info=Row(customer_id='eeed6f8a-fd51-487f-8ea4-0ce7917e1faa', customer_name='Ana Lívia da Mota', customer_phone_number='+55 41 7146 0701')),\n",
       " Row(customer_info=Row(customer_id='b20b9f0f-7c04-4dec-8f31-a8d76cd281df', customer_name='Isabelly Moreira', customer_phone_number='(041) 0985-9510')),\n",
       " Row(customer_info=Row(customer_id='1c434608-5cd6-4659-b873-a06ee3b1018a', customer_name='Otávio Almeida', customer_phone_number='+55 (081) 0711-9430')),\n",
       " Row(customer_info=Row(customer_id='ca863ef5-63e8-490e-8139-7c8ad48872c2', customer_name='João Guilherme Almeida', customer_phone_number='(021) 7592 7586')),\n",
       " Row(customer_info=Row(customer_id='93139262-661a-4ee4-b4f6-eaabeba78c0a', customer_name='Pietra da Mata', customer_phone_number='(011) 8214-1916')),\n",
       " Row(customer_info=Row(customer_id='efec20fb-87cf-4cbc-9b19-ae31d9f98dc4', customer_name='Sra. Maria Sophia Fogaça', customer_phone_number='+55 (031) 7654 7778')),\n",
       " Row(customer_info=Row(customer_id='a8098fe6-7da9-4b1c-8db6-3613c7b7f1c8', customer_name='Vitor Hugo Rodrigues', customer_phone_number='+55 (021) 0778-5193')),\n",
       " Row(customer_info=Row(customer_id='8ff532da-3991-457e-a70e-83560f7b0d90', customer_name='Luana Cavalcanti', customer_phone_number='+55 (081) 7903-5033')),\n",
       " Row(customer_info=Row(customer_id='b89fb3a0-3786-45b9-9f9e-938659cd9d73', customer_name='Srta. Sarah Sales', customer_phone_number='+55 (041) 7145-8359')),\n",
       " Row(customer_info=Row(customer_id='9f7e4b34-0cb4-474e-a733-e1df0ff09934', customer_name='Emanuella Correia', customer_phone_number='(071) 3093-7971')),\n",
       " Row(customer_info=Row(customer_id='46adf771-649c-4dc6-aca3-434e7a4a3678', customer_name='Dr. Alexandre Cardoso', customer_phone_number='+55 31 9108 9095')),\n",
       " Row(customer_info=Row(customer_id='ee94bfee-c5d0-4727-8774-9bd900a88fc3', customer_name='Milena Cavalcanti', customer_phone_number='(011) 4883-6167')),\n",
       " Row(customer_info=Row(customer_id='e16baf28-1105-45ba-a7ad-5357ad033d7f', customer_name='Dra. Júlia Gomes', customer_phone_number='+55 (031) 2412-8134')),\n",
       " Row(customer_info=Row(customer_id='eecc6933-4cb7-4a83-9635-f01652aa6fd6', customer_name='Dr. João Miguel Aragão', customer_phone_number='+55 11 6509-3506')),\n",
       " Row(customer_info=Row(customer_id='fccd4828-2def-432b-8a16-f0075a3cb989', customer_name='Srta. Ana Carolina Nogueira', customer_phone_number='+55 (011) 6673-6069')),\n",
       " Row(customer_info=Row(customer_id='250f9f2d-1cfa-480b-adbd-b39c44abf13c', customer_name='Luiz Gustavo da Costa', customer_phone_number='+55 11 6742 0378')),\n",
       " Row(customer_info=Row(customer_id='c3d5ce37-eb4c-4714-9526-62ff33827db2', customer_name='Valentina Fernandes', customer_phone_number='+55 (011) 5029 9573')),\n",
       " Row(customer_info=Row(customer_id='65cd78df-ca0c-4004-851d-6189dd22a606', customer_name='Bernardo da Rosa', customer_phone_number='+55 (031) 2940-8149')),\n",
       " Row(customer_info=Row(customer_id='9215a353-3de8-41f3-b2e9-ca3ebc1e29f6', customer_name='Pedro Miguel da Cunha', customer_phone_number='21 0182-7028')),\n",
       " Row(customer_info=Row(customer_id='43bc66ba-2435-4c04-84a1-87d8dbdeacd2', customer_name='Thomas Fogaça', customer_phone_number='31 7625 9486')),\n",
       " Row(customer_info=Row(customer_id='4994d3a6-861a-481e-aa7e-baf75439276a', customer_name='Thomas Pereira', customer_phone_number='31 8373-3976')),\n",
       " Row(customer_info=Row(customer_id='58edf810-b611-4eb3-960a-23d513186390', customer_name='Bruna Duarte', customer_phone_number='+55 (084) 5110-3487')),\n",
       " Row(customer_info=Row(customer_id='30c3bd06-7a99-4629-b754-7fcfe445f9d6', customer_name='Theo Pinto', customer_phone_number='+55 21 2486-5132')),\n",
       " Row(customer_info=Row(customer_id='c988555d-9190-4403-b924-5b0f6670f7b6', customer_name='Emanuella Campos', customer_phone_number='+55 41 5078-5434')),\n",
       " Row(customer_info=Row(customer_id='ee32a5e6-c937-4906-9125-5f81df79294b', customer_name='Dra. Lívia da Conceição', customer_phone_number='+55 (041) 6407 2878')),\n",
       " Row(customer_info=Row(customer_id='13c3d16f-7b4f-4b36-95e4-ce856577355b', customer_name='Pietro das Neves', customer_phone_number='(061) 4025-0250')),\n",
       " Row(customer_info=Row(customer_id='f3d9e871-349b-4270-901d-dae38a1e10dc', customer_name='Thales Cavalcanti', customer_phone_number='61 6152 1123')),\n",
       " Row(customer_info=Row(customer_id='d21e963a-c602-4259-b91c-24e25543b281', customer_name='Sr. Leonardo Viana', customer_phone_number='0900-780-9041')),\n",
       " Row(customer_info=Row(customer_id='59a2d7ae-f41f-4453-b3bc-953141373a45', customer_name='Sra. Isadora Nunes', customer_phone_number='+55 (051) 5144 2901')),\n",
       " Row(customer_info=Row(customer_id='111f111a-e9f8-4e3a-9d96-4cbb646c9245', customer_name='Maria Eduarda da Rocha', customer_phone_number='+55 21 6485-4129')),\n",
       " Row(customer_info=Row(customer_id='92cf1267-4238-40d0-9ecb-238a6b87b1e7', customer_name='Lavínia Cavalcanti', customer_phone_number='41 1445 6072')),\n",
       " Row(customer_info=Row(customer_id='23cd2833-d6b6-4159-9acd-030cc544b71e', customer_name='João Pedro Araújo', customer_phone_number='+55 (061) 3036 1500')),\n",
       " Row(customer_info=Row(customer_id='a56710b2-cc11-4be3-b2ba-7e191726ff91', customer_name='Maria Fernanda da Mata', customer_phone_number='(021) 8698 5565')),\n",
       " Row(customer_info=Row(customer_id='29bbda41-8331-44ee-8e16-c14a1abeb655', customer_name='Carlos Eduardo Souza', customer_phone_number='(051) 8481-8698')),\n",
       " Row(customer_info=Row(customer_id='3e0c7865-f864-499b-90bd-007396ac2756', customer_name='Sr. Enrico Pinto', customer_phone_number='+55 (031) 9355-9167')),\n",
       " Row(customer_info=Row(customer_id='0594442d-a93d-45fa-84a0-d07c74669a91', customer_name='Julia Aragão', customer_phone_number='+55 (021) 3792-5274')),\n",
       " Row(customer_info=Row(customer_id='d842edd5-b849-4bbd-9e1c-ae25dfc39d64', customer_name='Sra. Vitória Cardoso', customer_phone_number='+55 (061) 8749 0996')),\n",
       " Row(customer_info=Row(customer_id='6fc6a4c0-5561-4c4a-8eac-55b3aae74496', customer_name='Srta. Fernanda Vieira', customer_phone_number='+55 (031) 6182-0297')),\n",
       " Row(customer_info=Row(customer_id='65f7a18a-2b32-409f-86ec-9c2dcc25fbf9', customer_name='Luiz Henrique Ribeiro', customer_phone_number='(041) 8946-7125'))]"
      ]
     },
     "execution_count": 21,
     "metadata": {},
     "output_type": "execute_result"
    }
   ],
   "source": [
    "orders_trusted.select('customer_info').collect()"
   ]
  },
  {
   "cell_type": "code",
   "execution_count": 24,
   "id": "3ec476de",
   "metadata": {},
   "outputs": [
    {
     "name": "stderr",
     "output_type": "stream",
     "text": [
      "[Stage 22:=======>                                                  (1 + 7) / 8]\r"
     ]
    },
    {
     "name": "stdout",
     "output_type": "stream",
     "text": [
      "+------------------------------------+------------------------+---------------------+\n",
      "|customer_id                         |customer_name           |customer_phone_number|\n",
      "+------------------------------------+------------------------+---------------------+\n",
      "|d8e7bc3c-170e-4e72-8152-8413dd79809f|Yuri Farias             |61 9321-8257         |\n",
      "|3a9c2f35-7797-4ad9-a8b6-7e83affb2292|Melissa da Conceição    |71 8040-4937         |\n",
      "|1a07e52c-a86f-4924-8e4f-c9c1be45cf3b|Clarice das Neves       |0900 020 2008        |\n",
      "|2db4ac2e-2e80-43d0-bcb5-1f1e761be24f|Pedro Miguel Moreira    |+55 (021) 2071-6513  |\n",
      "|3894e622-50dd-44e1-bcfc-726f728413eb|Dr. Leonardo Barros     |+55 (061) 6589-8832  |\n",
      "|5478572e-dbf3-4914-8891-a655e0c9f838|Kevin da Conceição      |+55 (041) 2230 3495  |\n",
      "|2d6799ef-9d4f-4710-8413-7985eb8328ec|Srta. Ana Júlia Ribeiro |(081) 9134-6228      |\n",
      "|15c57b51-b6b6-4b78-a45d-3a7a3f320b02|Bernardo Souza          |11 2033-6330         |\n",
      "|3ad005b2-f746-4ef8-8153-80925551b69e|Gabriela Monteiro       |+55 (051) 1978 9172  |\n",
      "|366743c3-ed75-493b-b845-54c2dbe98263|Marcos Vinicius Ribeiro |+55 71 7042-8010     |\n",
      "|9a886157-a067-4566-8410-c552b3094819|Yuri da Cruz            |21 3372 9331         |\n",
      "|faa19238-5ec2-4b64-9713-a7f4f83b6f44|Ana Carolina Ferreira   |21 6788-6369         |\n",
      "|3ec9798c-d7c0-4058-a37b-21e8ec39d23e|Dr. Danilo Sales        |61 2411 8302         |\n",
      "|fff26d33-3192-4918-8440-00f9843aef1d|Sr. Luiz Henrique Vieira|(021) 7678-6374      |\n",
      "|7a9b8bbf-ad86-4d95-a4a5-2503fa017026|Alexandre da Mata       |+55 (051) 5652-2657  |\n",
      "|481d0626-a375-43ca-9fd5-c2fc5107ecf2|Luiz Felipe Cunha       |+55 (084) 0349 6230  |\n",
      "|cf508f4e-c238-474c-b111-83950c8aaab4|Lívia Santos            |+55 31 0145-7087     |\n",
      "|b6753e9d-1b11-4a76-875a-3db171c10b85|Gustavo Henrique Melo   |(031) 4284 4589      |\n",
      "|83a1bdab-4302-4075-9463-5d5cd0189026|Nicolas Costa           |0900 654 9045        |\n",
      "|1d9c849d-2603-4f5e-ae68-eb174f4a6a75|Carlos Eduardo Pires    |+55 (081) 1804-4709  |\n",
      "+------------------------------------+------------------------+---------------------+\n",
      "only showing top 20 rows\n",
      "\n"
     ]
    },
    {
     "name": "stderr",
     "output_type": "stream",
     "text": [
      "\r",
      "[Stage 22:===========================================>              (6 + 2) / 8]\r",
      "\r",
      "                                                                                \r"
     ]
    }
   ],
   "source": [
    "orders_trusted.select('customer_info.customer_id', 'customer_info.customer_name', 'customer_info.customer_phone_number').distinct().show(truncate=False)"
   ]
  },
  {
   "cell_type": "code",
   "execution_count": 28,
   "id": "97846b80",
   "metadata": {
    "scrolled": false
   },
   "outputs": [
    {
     "name": "stderr",
     "output_type": "stream",
     "text": [
      "[Stage 31:==============>                                           (2 + 6) / 8]\r"
     ]
    },
    {
     "name": "stdout",
     "output_type": "stream",
     "text": [
      "+------------------------------------+------------------+----------+\n",
      "|customer_id                         |dist_customer_name|dist_phone|\n",
      "+------------------------------------+------------------+----------+\n",
      "|366743c3-ed75-493b-b845-54c2dbe98263|1                 |1         |\n",
      "|c3d5ce37-eb4c-4714-9526-62ff33827db2|1                 |1         |\n",
      "|efec20fb-87cf-4cbc-9b19-ae31d9f98dc4|1                 |1         |\n",
      "|28772edb-7c2b-4881-9ef4-4f1a1b8574e9|1                 |1         |\n",
      "|29bbda41-8331-44ee-8e16-c14a1abeb655|1                 |1         |\n",
      "|d38e0fb8-69ee-4760-ad61-54e1e6e46456|1                 |1         |\n",
      "|9a886157-a067-4566-8410-c552b3094819|1                 |1         |\n",
      "|10cd686f-dbe4-455b-8e07-02913fad50fe|1                 |1         |\n",
      "|65f7a18a-2b32-409f-86ec-9c2dcc25fbf9|1                 |1         |\n",
      "|05e16191-8a97-40af-8b91-a7b6b5a77b72|1                 |1         |\n",
      "|6d8867f8-26fd-4135-ad48-8e9a6fe1f54b|1                 |1         |\n",
      "|deb3a694-7d38-4827-ba9a-1f1d6d0efb2a|1                 |1         |\n",
      "|ba213bb5-d69f-4ac5-92b7-2729d64bd308|1                 |1         |\n",
      "|7a9b8bbf-ad86-4d95-a4a5-2503fa017026|1                 |1         |\n",
      "|0bf9f8d0-e9bd-4cbc-bf9f-268fa1843ace|1                 |1         |\n",
      "|a56710b2-cc11-4be3-b2ba-7e191726ff91|1                 |1         |\n",
      "|3a9c2f35-7797-4ad9-a8b6-7e83affb2292|1                 |1         |\n",
      "|08485bb8-da8d-4e0b-ac73-fa1462783136|1                 |1         |\n",
      "|ab404c3f-5150-41da-b6b5-26ce8cdeb732|1                 |1         |\n",
      "|65cd78df-ca0c-4004-851d-6189dd22a606|1                 |1         |\n",
      "+------------------------------------+------------------+----------+\n",
      "only showing top 20 rows\n",
      "\n"
     ]
    },
    {
     "name": "stderr",
     "output_type": "stream",
     "text": [
      "\r",
      "                                                                                \r"
     ]
    }
   ],
   "source": [
    "orders_trusted.groupBy('customer_info.customer_id').agg(count_distinct('customer_info.customer_name').alias('dist_customer_name'), count_distinct('customer_info.customer_phone_number').alias('dist_phone')).orderBy(col('dist_phone').desc()).show(truncate=False)"
   ]
  },
  {
   "cell_type": "code",
   "execution_count": null,
   "id": "37869a85",
   "metadata": {},
   "outputs": [],
   "source": []
  }
 ],
 "metadata": {
  "kernelspec": {
   "display_name": "Python 3 (ipykernel)",
   "language": "python",
   "name": "python3"
  },
  "language_info": {
   "codemirror_mode": {
    "name": "ipython",
    "version": 3
   },
   "file_extension": ".py",
   "mimetype": "text/x-python",
   "name": "python",
   "nbconvert_exporter": "python",
   "pygments_lexer": "ipython3",
   "version": "3.10.6"
  }
 },
 "nbformat": 4,
 "nbformat_minor": 5
}
